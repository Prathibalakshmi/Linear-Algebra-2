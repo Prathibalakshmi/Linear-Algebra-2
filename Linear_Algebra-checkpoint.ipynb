{
 "cells": [
  {
   "cell_type": "markdown",
   "metadata": {},
   "source": [
    "## Import Libraries"
   ]
  },
  {
   "cell_type": "code",
   "execution_count": 2,
   "metadata": {},
   "outputs": [],
   "source": [
    "# import libraries\n",
    "import numpy as np\n",
    "import matplotlib.pyplot as plt"
   ]
  },
  {
   "cell_type": "markdown",
   "metadata": {},
   "source": [
    "## Load Dataset"
   ]
  },
  {
   "cell_type": "code",
   "execution_count": 9,
   "metadata": {},
   "outputs": [
    {
     "data": {
      "text/plain": [
       "Index(['Id', 'SepalLengthCm', 'SepalWidthCm', 'PetalLengthCm', 'PetalWidthCm',\n",
       "       'Species'],\n",
       "      dtype='object')"
      ]
     },
     "execution_count": 9,
     "metadata": {},
     "output_type": "execute_result"
    }
   ],
   "source": [
    "import pandas as pd\n",
    "df = pd.read_csv(\"Iris.csv\")\n",
    "df.columns"
   ]
  },
  {
   "cell_type": "code",
   "execution_count": 10,
   "metadata": {},
   "outputs": [],
   "source": [
    "X = df.drop(columns=['Id','Species'])\n",
    "y = df.Species"
   ]
  },
  {
   "cell_type": "code",
   "execution_count": 11,
   "metadata": {},
   "outputs": [
    {
     "data": {
      "text/plain": [
       "0         Iris-setosa\n",
       "1         Iris-setosa\n",
       "2         Iris-setosa\n",
       "3         Iris-setosa\n",
       "4         Iris-setosa\n",
       "            ...      \n",
       "145    Iris-virginica\n",
       "146    Iris-virginica\n",
       "147    Iris-virginica\n",
       "148    Iris-virginica\n",
       "149    Iris-virginica\n",
       "Name: Species, Length: 150, dtype: object"
      ]
     },
     "execution_count": 11,
     "metadata": {},
     "output_type": "execute_result"
    }
   ],
   "source": [
    "y"
   ]
  },
  {
   "cell_type": "code",
   "execution_count": 91,
   "metadata": {},
   "outputs": [
    {
     "name": "stdout",
     "output_type": "stream",
     "text": [
      "['setosa' 'versicolor' 'virginica']\n"
     ]
    }
   ],
   "source": [
    "# load Iris dataset from sklearn\n",
    "from sklearn.datasets import load_iris\n",
    "data = load_iris()\n",
    "X, y = data.data, data.target\n",
    "feature_names = data.feature_names\n",
    "target_names = data.target_names\n",
    "print(target_names)"
   ]
  },
  {
   "cell_type": "code",
   "execution_count": 13,
   "metadata": {},
   "outputs": [
    {
     "data": {
      "text/plain": [
       "(150, 4)"
      ]
     },
     "execution_count": 13,
     "metadata": {},
     "output_type": "execute_result"
    }
   ],
   "source": [
    "X.shape"
   ]
  },
  {
   "cell_type": "code",
   "execution_count": 14,
   "metadata": {},
   "outputs": [
    {
     "data": {
      "text/plain": [
       "array([4.9, 3. , 1.4, 0.2])"
      ]
     },
     "execution_count": 14,
     "metadata": {},
     "output_type": "execute_result"
    }
   ],
   "source": [
    "X[1]"
   ]
  },
  {
   "cell_type": "code",
   "execution_count": 15,
   "metadata": {},
   "outputs": [],
   "source": [
    "v1 = X[0]\n",
    "v2 = X[1]\n",
    "v3 = X[2]"
   ]
  },
  {
   "cell_type": "code",
   "execution_count": 16,
   "metadata": {},
   "outputs": [
    {
     "data": {
      "text/plain": [
       "array([14.7,  9.7,  4.1,  0.6])"
      ]
     },
     "execution_count": 16,
     "metadata": {},
     "output_type": "execute_result"
    }
   ],
   "source": [
    "v1 + (v2 + v3)"
   ]
  },
  {
   "cell_type": "code",
   "execution_count": 17,
   "metadata": {},
   "outputs": [
    {
     "data": {
      "text/plain": [
       "array([14.7,  9.7,  4.1,  0.6])"
      ]
     },
     "execution_count": 17,
     "metadata": {},
     "output_type": "execute_result"
    }
   ],
   "source": [
    "(v1 + v2) + v3"
   ]
  },
  {
   "cell_type": "code",
   "execution_count": 18,
   "metadata": {},
   "outputs": [
    {
     "data": {
      "text/plain": [
       "array([0., 0., 0., 0.])"
      ]
     },
     "execution_count": 18,
     "metadata": {},
     "output_type": "execute_result"
    }
   ],
   "source": [
    "v1 + (-1 * v1)"
   ]
  },
  {
   "cell_type": "code",
   "execution_count": 19,
   "metadata": {},
   "outputs": [
    {
     "data": {
      "text/plain": [
       "array([0., 0., 0., 0.])"
      ]
     },
     "execution_count": 19,
     "metadata": {},
     "output_type": "execute_result"
    }
   ],
   "source": [
    "0 * v1"
   ]
  },
  {
   "cell_type": "code",
   "execution_count": 20,
   "metadata": {},
   "outputs": [
    {
     "data": {
      "text/plain": [
       "array([30.6, 21. ,  8.4,  1.2])"
      ]
     },
     "execution_count": 20,
     "metadata": {},
     "output_type": "execute_result"
    }
   ],
   "source": [
    "2 * (3*v1)"
   ]
  },
  {
   "cell_type": "code",
   "execution_count": 21,
   "metadata": {},
   "outputs": [
    {
     "data": {
      "text/plain": [
       "array([25.5, 17.5,  7. ,  1. ])"
      ]
     },
     "execution_count": 21,
     "metadata": {},
     "output_type": "execute_result"
    }
   ],
   "source": [
    "(2 + 3)*v1"
   ]
  },
  {
   "cell_type": "code",
   "execution_count": 22,
   "metadata": {},
   "outputs": [
    {
     "data": {
      "text/plain": [
       "array([25.5, 17.5,  7. ,  1. ])"
      ]
     },
     "execution_count": 22,
     "metadata": {},
     "output_type": "execute_result"
    }
   ],
   "source": [
    "2 * v1 + 3 * v1 "
   ]
  },
  {
   "cell_type": "markdown",
   "metadata": {},
   "source": [
    "## Visualize vectors "
   ]
  },
  {
   "cell_type": "code",
   "execution_count": 23,
   "metadata": {},
   "outputs": [],
   "source": [
    "## 2-d visualization\n",
    "v11 = v1[:2]\n",
    "v22 = v2[:2]"
   ]
  },
  {
   "cell_type": "code",
   "execution_count": 24,
   "metadata": {},
   "outputs": [
    {
     "data": {
      "text/plain": [
       "array([5.1, 3.5])"
      ]
     },
     "execution_count": 24,
     "metadata": {},
     "output_type": "execute_result"
    }
   ],
   "source": [
    "v11"
   ]
  },
  {
   "cell_type": "code",
   "execution_count": 25,
   "metadata": {},
   "outputs": [
    {
     "data": {
      "text/plain": [
       "array([4.9, 3. ])"
      ]
     },
     "execution_count": 25,
     "metadata": {},
     "output_type": "execute_result"
    }
   ],
   "source": [
    "v22"
   ]
  },
  {
   "cell_type": "code",
   "execution_count": 26,
   "metadata": {},
   "outputs": [
    {
     "data": {
      "image/png": "[encoded data removed]",
      "text/plain": [
       "<Figure size 432x288 with 1 Axes>"
      ]
     },
     "metadata": {
      "needs_background": "light"
     },
     "output_type": "display_data"
    }
   ],
   "source": [
    "x, y = zip(v11, v22)\n",
    "subplot = plt.subplot()\n",
    "subplot.scatter(x,y)\n",
    "subplot.arrow(0,0,v11[0],v11[1],head_length=0.3,head_width=0.2,color='blue',length_includes_head=True)\n",
    "subplot.arrow(0,0,v22[0],v22[1],head_length=0.3,head_width=0.2,color='red',length_includes_head=True)\n",
    "subplot.grid()\n",
    "plt.show()"
   ]
  },
  {
   "cell_type": "code",
   "execution_count": 27,
   "metadata": {},
   "outputs": [
    {
     "data": {
      "image/png": "[encoded data removed]",
      "text/plain": [
       "<Figure size 432x288 with 1 Axes>"
      ]
     },
     "metadata": {
      "needs_background": "light"
     },
     "output_type": "display_data"
    }
   ],
   "source": [
    "x, y = X[:,0], X[:,2] \n",
    "subplot = plt.subplot()\n",
    "subplot.scatter(x,y)\n",
    "subplot.grid()\n",
    "plt.show()"
   ]
  },
  {
   "cell_type": "code",
   "execution_count": 28,
   "metadata": {},
   "outputs": [
    {
     "data": {
      "image/png": "[encoded data removed]",
      "text/plain": [
       "<Figure size 432x288 with 1 Axes>"
      ]
     },
     "metadata": {
      "needs_background": "light"
     },
     "output_type": "display_data"
    }
   ],
   "source": [
    "## 3-d visualization\n",
    "x, y, z = X[:,0], X[:,1], X[:,2]\n",
    "subplot = plt.subplot(projection='3d')\n",
    "subplot.scatter(x,y,z)\n",
    "plt.show()"
   ]
  },
  {
   "cell_type": "markdown",
   "metadata": {},
   "source": [
    "## Norm of a vector"
   ]
  },
  {
   "cell_type": "code",
   "execution_count": 29,
   "metadata": {},
   "outputs": [],
   "source": [
    "def my_norm(vector, p=2):\n",
    "    s = 0\n",
    "    for i in range(len(vector)):\n",
    "        s += vector[i]**p\n",
    "    return s**(1/p)"
   ]
  },
  {
   "cell_type": "code",
   "execution_count": 30,
   "metadata": {},
   "outputs": [
    {
     "data": {
      "text/plain": [
       "array([5.1, 3.5, 1.4, 0.2])"
      ]
     },
     "execution_count": 30,
     "metadata": {},
     "output_type": "execute_result"
    }
   ],
   "source": [
    "X[0]"
   ]
  },
  {
   "cell_type": "code",
   "execution_count": 31,
   "metadata": {},
   "outputs": [
    {
     "data": {
      "text/plain": [
       "6.345076831686122"
      ]
     },
     "execution_count": 31,
     "metadata": {},
     "output_type": "execute_result"
    }
   ],
   "source": [
    "my_norm(X[0])"
   ]
  },
  {
   "cell_type": "code",
   "execution_count": 32,
   "metadata": {},
   "outputs": [
    {
     "data": {
      "text/plain": [
       "4.58257569495584"
      ]
     },
     "execution_count": 32,
     "metadata": {},
     "output_type": "execute_result"
    }
   ],
   "source": [
    "x = np.array([1, -2, 4])\n",
    "my_norm(x)"
   ]
  },
  {
   "cell_type": "code",
   "execution_count": 33,
   "metadata": {},
   "outputs": [
    {
     "data": {
      "text/plain": [
       "4.795831523312719"
      ]
     },
     "execution_count": 33,
     "metadata": {},
     "output_type": "execute_result"
    }
   ],
   "source": [
    "x = [4 , -4, -1, 2]\n",
    "p = 4\n",
    "my_norm(x, p=4)"
   ]
  },
  {
   "cell_type": "code",
   "execution_count": 34,
   "metadata": {},
   "outputs": [
    {
     "data": {
      "text/plain": [
       "4.795831523312719"
      ]
     },
     "execution_count": 34,
     "metadata": {},
     "output_type": "execute_result"
    }
   ],
   "source": [
    "np.linalg.norm(x,4)"
   ]
  },
  {
   "cell_type": "markdown",
   "metadata": {},
   "source": [
    "## Dot Product of vectors"
   ]
  },
  {
   "cell_type": "code",
   "execution_count": 35,
   "metadata": {},
   "outputs": [],
   "source": [
    "def inner_product(vector1,vector2):\n",
    "    s = 0\n",
    "    for i in range(len(vector1)):\n",
    "        s += vector1[i]*vector2[i]\n",
    "    return s"
   ]
  },
  {
   "cell_type": "code",
   "execution_count": 36,
   "metadata": {},
   "outputs": [
    {
     "data": {
      "text/plain": [
       "37.489999999999995"
      ]
     },
     "execution_count": 36,
     "metadata": {},
     "output_type": "execute_result"
    }
   ],
   "source": [
    "inner_product(X[0],X[1])"
   ]
  },
  {
   "cell_type": "code",
   "execution_count": 37,
   "metadata": {},
   "outputs": [
    {
     "data": {
      "text/plain": [
       "37.489999999999995"
      ]
     },
     "execution_count": 37,
     "metadata": {},
     "output_type": "execute_result"
    }
   ],
   "source": [
    "np.dot(X[0],X[1])"
   ]
  },
  {
   "cell_type": "code",
   "execution_count": 38,
   "metadata": {},
   "outputs": [
    {
     "data": {
      "text/plain": [
       "37.489999999999995"
      ]
     },
     "execution_count": 38,
     "metadata": {},
     "output_type": "execute_result"
    }
   ],
   "source": [
    "X[0].dot(X[1])"
   ]
  },
  {
   "cell_type": "markdown",
   "metadata": {},
   "source": [
    "## Calculate angle between vectors"
   ]
  },
  {
   "cell_type": "code",
   "execution_count": 39,
   "metadata": {},
   "outputs": [],
   "source": [
    "def cal_angle(vector1, vector2):\n",
    "    prod = inner_product(vector1,vector2)\n",
    "    n1 = my_norm(vector1)\n",
    "    n2 = my_norm(vector2)\n",
    "    theta = np.arccos(prod/(n1*n2))\n",
    "    return theta * 180 / np.pi"
   ]
  },
  {
   "cell_type": "code",
   "execution_count": 40,
   "metadata": {},
   "outputs": [
    {
     "data": {
      "text/plain": [
       "38.2029290645368"
      ]
     },
     "execution_count": 40,
     "metadata": {},
     "output_type": "execute_result"
    }
   ],
   "source": [
    "x = [1,-1,2]\n",
    "y = [5,2,7]\n",
    "cal_angle(x,y)"
   ]
  },
  {
   "cell_type": "code",
   "execution_count": 41,
   "metadata": {},
   "outputs": [
    {
     "data": {
      "text/plain": [
       "90.0"
      ]
     },
     "execution_count": 41,
     "metadata": {},
     "output_type": "execute_result"
    }
   ],
   "source": [
    "x = [0,5,0]\n",
    "y = [1,0,0]\n",
    "cal_angle(x,y)"
   ]
  },
  {
   "cell_type": "markdown",
   "metadata": {},
   "source": [
    "## Unit vectors"
   ]
  },
  {
   "cell_type": "code",
   "execution_count": 46,
   "metadata": {},
   "outputs": [
    {
     "data": {
      "text/plain": [
       "array([ 0.32163376,  0.75047877,  0.53605627, -0.21442251])"
      ]
     },
     "execution_count": 46,
     "metadata": {},
     "output_type": "execute_result"
    }
   ],
   "source": [
    "x = np.array([3,7,5,-2])\n",
    "x_unit = x / np.linalg.norm(x)\n",
    "x_unit"
   ]
  },
  {
   "cell_type": "code",
   "execution_count": 48,
   "metadata": {},
   "outputs": [
    {
     "data": {
      "text/plain": [
       "1.0"
      ]
     },
     "execution_count": 48,
     "metadata": {},
     "output_type": "execute_result"
    }
   ],
   "source": [
    "np.linalg.norm(x_unit)"
   ]
  },
  {
   "cell_type": "code",
   "execution_count": 51,
   "metadata": {},
   "outputs": [
    {
     "data": {
      "text/plain": [
       "array([0.80377277, 0.55160877, 0.22064351, 0.0315205 ])"
      ]
     },
     "execution_count": 51,
     "metadata": {},
     "output_type": "execute_result"
    }
   ],
   "source": [
    "unit_vector_X =  X[0]/ np.linalg.norm(X[0])\n",
    "unit_vector_X"
   ]
  },
  {
   "cell_type": "markdown",
   "metadata": {},
   "source": [
    "## Calculate distance between vectors "
   ]
  },
  {
   "cell_type": "code",
   "execution_count": 52,
   "metadata": {},
   "outputs": [],
   "source": [
    "## Euclidean distance\n",
    "\n",
    "def euclidean_distance(vector1, vector2):\n",
    "    s = 0\n",
    "    for i in range(len(vector1)):\n",
    "        s += (vector2[i] - vector1[i])**2\n",
    "    return s**0.5"
   ]
  },
  {
   "cell_type": "code",
   "execution_count": 56,
   "metadata": {},
   "outputs": [
    {
     "data": {
      "text/plain": [
       "0.5385164807134502"
      ]
     },
     "execution_count": 56,
     "metadata": {},
     "output_type": "execute_result"
    }
   ],
   "source": [
    "euclidean_distance(vector1=X[0],vector2=X[1])"
   ]
  },
  {
   "cell_type": "code",
   "execution_count": 57,
   "metadata": {},
   "outputs": [
    {
     "data": {
      "text/plain": [
       "0.5385164807134502"
      ]
     },
     "execution_count": 57,
     "metadata": {},
     "output_type": "execute_result"
    }
   ],
   "source": [
    "euclidean_distance(vector1=X[1],vector2=X[0])"
   ]
  },
  {
   "cell_type": "code",
   "execution_count": 69,
   "metadata": {},
   "outputs": [],
   "source": [
    "x, y, z = X[0], X[1], X[1]\n",
    "distxy = euclidean_distance(x,y)\n",
    "distyz = euclidean_distance(y,z)\n",
    "distxz = euclidean_distance(x,z)"
   ]
  },
  {
   "cell_type": "code",
   "execution_count": 70,
   "metadata": {},
   "outputs": [
    {
     "data": {
      "text/plain": [
       "0.5385164807134502"
      ]
     },
     "execution_count": 70,
     "metadata": {},
     "output_type": "execute_result"
    }
   ],
   "source": [
    "distxy "
   ]
  },
  {
   "cell_type": "code",
   "execution_count": 71,
   "metadata": {},
   "outputs": [
    {
     "data": {
      "text/plain": [
       "0.5385164807134502"
      ]
     },
     "execution_count": 71,
     "metadata": {},
     "output_type": "execute_result"
    }
   ],
   "source": [
    "distyz + distxz"
   ]
  },
  {
   "cell_type": "code",
   "execution_count": 76,
   "metadata": {},
   "outputs": [],
   "source": [
    "## Manhattan distance\n",
    "\n",
    "def manhattan_distance(vector1,vector2):\n",
    "    s = 0\n",
    "    for i in range(len(vector1)):\n",
    "        s += abs(vector1[i] - vector2[i])\n",
    "    return s"
   ]
  },
  {
   "cell_type": "code",
   "execution_count": 79,
   "metadata": {},
   "outputs": [
    {
     "data": {
      "text/plain": [
       "0.6999999999999993"
      ]
     },
     "execution_count": 79,
     "metadata": {},
     "output_type": "execute_result"
    }
   ],
   "source": [
    "manhattan_distance(X[0],X[1])"
   ]
  },
  {
   "cell_type": "code",
   "execution_count": 80,
   "metadata": {},
   "outputs": [
    {
     "data": {
      "text/plain": [
       "0.6999999999999993"
      ]
     },
     "execution_count": 80,
     "metadata": {},
     "output_type": "execute_result"
    }
   ],
   "source": [
    "manhattan_distance(X[1],X[0])"
   ]
  },
  {
   "cell_type": "code",
   "execution_count": 87,
   "metadata": {},
   "outputs": [],
   "source": [
    "x, y, z = X[0], X[1], X[2]\n",
    "distxy = manhattan_distance(x,y)\n",
    "distyz = manhattan_distance(y,z)\n",
    "distxz = manhattan_distance(x,z)"
   ]
  },
  {
   "cell_type": "code",
   "execution_count": 88,
   "metadata": {},
   "outputs": [
    {
     "data": {
      "text/plain": [
       "0.6999999999999993"
      ]
     },
     "execution_count": 88,
     "metadata": {},
     "output_type": "execute_result"
    }
   ],
   "source": [
    "distxy"
   ]
  },
  {
   "cell_type": "code",
   "execution_count": 89,
   "metadata": {},
   "outputs": [
    {
     "data": {
      "text/plain": [
       "1.2999999999999994"
      ]
     },
     "execution_count": 89,
     "metadata": {},
     "output_type": "execute_result"
    }
   ],
   "source": [
    "distxz + distyz"
   ]
  },
  {
   "cell_type": "code",
   "execution_count": 93,
   "metadata": {},
   "outputs": [
    {
     "name": "stdout",
     "output_type": "stream",
     "text": [
      "(50, 4) (50, 4) (50, 4)\n"
     ]
    }
   ],
   "source": [
    "## Exercise\n",
    "X_0, X_1, X_2 = X[:50,:], X[50:100,:], X[100:,:]\n",
    "print(X_0.shape, X_1.shape, X_2.shape)"
   ]
  },
  {
   "cell_type": "code",
   "execution_count": 94,
   "metadata": {},
   "outputs": [],
   "source": [
    "dist11 = euclidean_distance(X_0[0],X_0[1])\n",
    "dist22 = euclidean_distance(X_1[0],X_1[1])\n",
    "dist33 = euclidean_distance(X_2[0],X_2[1])"
   ]
  },
  {
   "cell_type": "code",
   "execution_count": 95,
   "metadata": {},
   "outputs": [
    {
     "name": "stdout",
     "output_type": "stream",
     "text": [
      "0.5385164807134502 0.6403124237432847 1.3341664064126335\n"
     ]
    }
   ],
   "source": [
    "print(dist11, dist22, dist33)"
   ]
  },
  {
   "cell_type": "code",
   "execution_count": 96,
   "metadata": {},
   "outputs": [],
   "source": [
    "dist12 = euclidean_distance(X_0[0],X_1[0])\n",
    "dist23 = euclidean_distance(X_1[0],X_2[0])\n",
    "dist31 = euclidean_distance(X_2[0],X_0[0])"
   ]
  },
  {
   "cell_type": "code",
   "execution_count": 97,
   "metadata": {},
   "outputs": [
    {
     "name": "stdout",
     "output_type": "stream",
     "text": [
      "4.003748243833521 1.8439088914585773 5.2848841046895245\n"
     ]
    }
   ],
   "source": [
    "print(dist12,dist23,dist31)"
   ]
  },
  {
   "cell_type": "code",
   "execution_count": 98,
   "metadata": {},
   "outputs": [],
   "source": [
    "dist11 = manhattan_distance(X_0[0],X_0[1])\n",
    "dist22 = manhattan_distance(X_1[0],X_1[1])\n",
    "dist33 = manhattan_distance(X_2[0],X_2[1])"
   ]
  },
  {
   "cell_type": "code",
   "execution_count": 99,
   "metadata": {},
   "outputs": [
    {
     "name": "stdout",
     "output_type": "stream",
     "text": [
      "0.6999999999999993 0.8999999999999999 2.6\n"
     ]
    }
   ],
   "source": [
    "print(dist11, dist22, dist33)"
   ]
  },
  {
   "cell_type": "code",
   "execution_count": 100,
   "metadata": {},
   "outputs": [],
   "source": [
    "dist12 = manhattan_distance(X_0[0],X_1[0])\n",
    "dist23 = manhattan_distance(X_1[0],X_2[0])\n",
    "dist31 = manhattan_distance(X_2[0],X_0[0])"
   ]
  },
  {
   "cell_type": "code",
   "execution_count": 101,
   "metadata": {},
   "outputs": [
    {
     "name": "stdout",
     "output_type": "stream",
     "text": [
      "6.7 3.1999999999999997 8.3\n"
     ]
    }
   ],
   "source": [
    "print(dist12,dist23,dist31)"
   ]
  },
  {
   "cell_type": "code",
   "execution_count": 102,
   "metadata": {},
   "outputs": [
    {
     "name": "stdout",
     "output_type": "stream",
     "text": [
      "Euclidean Distance 7.0710678118654755\n",
      "Manhattan Distance 12\n"
     ]
    }
   ],
   "source": [
    "x = [5,2,7]\n",
    "y = [1,-1,2]\n",
    "print(\"Euclidean Distance\", euclidean_distance(x,y))\n",
    "print(\"Manhattan Distance\", manhattan_distance(x,y))"
   ]
  },
  {
   "cell_type": "code",
   "execution_count": 103,
   "metadata": {},
   "outputs": [],
   "source": [
    "## weighted euclidean distance\n",
    "def wt_euclidean_distance(vector1,vector2,weight):\n",
    "    s = 0\n",
    "    for i in range(len(vector1)):\n",
    "        s += weight[i]*(vector1[i]-vector2[i])**2 \n",
    "    return s**0.5"
   ]
  },
  {
   "cell_type": "code",
   "execution_count": 127,
   "metadata": {},
   "outputs": [
    {
     "data": {
      "text/plain": [
       "0.8774964387392121"
      ]
     },
     "execution_count": 127,
     "metadata": {},
     "output_type": "execute_result"
    }
   ],
   "source": [
    "w = [0.5,3,1.5,0.001]\n",
    "wt_euclidean_distance(X[0],X[1],w)"
   ]
  },
  {
   "cell_type": "code",
   "execution_count": 128,
   "metadata": {},
   "outputs": [
    {
     "data": {
      "text/plain": [
       "0.5385164807134502"
      ]
     },
     "execution_count": 128,
     "metadata": {},
     "output_type": "execute_result"
    }
   ],
   "source": [
    "euclidean_distance(X[0],X[1])"
   ]
  },
  {
   "cell_type": "code",
   "execution_count": 129,
   "metadata": {},
   "outputs": [],
   "source": [
    "dist11 = wt_euclidean_distance(X_0[0],X_0[1],w)\n",
    "dist22 = wt_euclidean_distance(X_1[0],X_1[1],w)\n",
    "dist33 = wt_euclidean_distance(X_2[0],X_2[1],w)"
   ]
  },
  {
   "cell_type": "code",
   "execution_count": 130,
   "metadata": {},
   "outputs": [
    {
     "name": "stdout",
     "output_type": "stream",
     "text": [
      "0.8774964387392121 0.4899081546575847 1.5557506226898963\n"
     ]
    }
   ],
   "source": [
    "print(dist11,dist22,dist33)"
   ]
  },
  {
   "cell_type": "code",
   "execution_count": 131,
   "metadata": {},
   "outputs": [],
   "source": [
    "dist12 = wt_euclidean_distance(X_0[0],X_1[0],w)\n",
    "dist23 = wt_euclidean_distance(X_1[0],X_2[0],w)\n",
    "dist31 = wt_euclidean_distance(X_2[0],X_0[0],w)"
   ]
  },
  {
   "cell_type": "code",
   "execution_count": 132,
   "metadata": {},
   "outputs": [
    {
     "name": "stdout",
     "output_type": "stream",
     "text": [
      "4.29085539257617 1.676666335321372 5.708352652035437\n"
     ]
    }
   ],
   "source": [
    "print(dist12,dist23,dist31)"
   ]
  },
  {
   "cell_type": "markdown",
   "metadata": {},
   "source": [
    "## Generate random Matrix"
   ]
  },
  {
   "cell_type": "code",
   "execution_count": 163,
   "metadata": {},
   "outputs": [
    {
     "data": {
      "text/plain": [
       "array([[ 0.12013833, -0.96450036, -0.90334874, -1.00652582, -0.54799878,\n",
       "         0.54772938,  0.43865368,  1.5957138 ,  1.15121016, -0.41188983],\n",
       "       [-1.84064237,  0.77083894,  0.13235248,  0.16544577,  0.42241557,\n",
       "        -0.53902675,  1.45131381,  1.26080875, -1.42649046, -1.88968441],\n",
       "       [-0.06073746, -0.75668955,  1.12145693, -1.77723545, -1.25976315,\n",
       "        -1.14494487, -0.88202708,  0.82203197,  1.85097363,  0.53800027],\n",
       "       [-0.03152514,  0.50878498,  1.04030351,  0.53356756,  0.68950665,\n",
       "        -2.09673145,  0.10953785,  1.00369407, -0.29094242, -0.01899869],\n",
       "       [-0.4750071 ,  0.00912427,  1.0985544 , -0.5758885 , -0.4756601 ,\n",
       "         0.07260692, -0.14838169,  0.72183308,  0.07840848, -1.19462099],\n",
       "       [-0.47952081,  0.33118586, -0.98011016, -1.1422038 , -1.43279749,\n",
       "        -0.47028018, -0.36060946,  0.58547354, -0.22557909, -2.48322848],\n",
       "       [ 0.99722765, -0.55157662,  0.04767208,  1.73835313,  0.28813851,\n",
       "         0.99432453,  3.20306557, -0.23683351,  1.49437847, -0.33646432],\n",
       "       [ 0.1828506 ,  0.51748302, -0.33580722, -0.16207954, -1.85093291,\n",
       "        -3.06405924,  1.03996111,  0.18534403, -0.71450369, -0.36543612],\n",
       "       [ 0.07826286,  1.12082917, -1.06265449, -0.49006379,  0.03915472,\n",
       "        -0.56647869, -0.68828826, -0.19161468,  2.11920516,  2.30893743],\n",
       "       [-2.19241066,  0.21395836, -1.0620756 ,  1.18381104,  0.68090567,\n",
       "         0.21767483, -0.07893644,  0.75043308,  1.87482175, -0.15886038]])"
      ]
     },
     "execution_count": 163,
     "metadata": {},
     "output_type": "execute_result"
    }
   ],
   "source": [
    "A = np.random.randn(10,10)\n",
    "A"
   ]
  },
  {
   "cell_type": "code",
   "execution_count": 167,
   "metadata": {},
   "outputs": [
    {
     "data": {
      "text/plain": [
       "array([[ 0.12013833, -0.96450036, -0.90334874],\n",
       "       [-1.84064237,  0.77083894,  0.13235248],\n",
       "       [-0.06073746, -0.75668955,  1.12145693]])"
      ]
     },
     "execution_count": 167,
     "metadata": {},
     "output_type": "execute_result"
    }
   ],
   "source": [
    "A[0:3,0:3]"
   ]
  },
  {
   "cell_type": "code",
   "execution_count": 171,
   "metadata": {},
   "outputs": [
    {
     "data": {
      "text/plain": [
       "array([[-0.96023363, -0.31036502, -0.29799122,  0.19952412, -0.56159555,\n",
       "         0.56360142, -0.90589676,  0.75271379,  1.23840694,  0.11074038,\n",
       "         1.92349861, -0.58647653,  1.19776867,  0.21782716, -0.40395409,\n",
       "        -1.66169198, -0.16315647, -0.06180449,  0.75772586, -1.08263233,\n",
       "        -0.63910703,  0.88500584,  0.30375912, -0.85778931, -0.92340195,\n",
       "        -0.43628611,  0.00286089, -2.45540378,  0.78543744, -0.30577473,\n",
       "        -0.1837856 ,  0.02197032,  0.96159151,  0.24241227, -0.64280604,\n",
       "        -0.01850422,  0.16691634,  2.04903388,  0.96172345,  0.28399343,\n",
       "        -0.41246663,  0.97032498, -1.79077795, -0.32355865, -0.35240371,\n",
       "         0.72767016, -1.65251526, -0.43209014, -1.6252977 ,  1.14295634,\n",
       "         1.80455812,  0.64779102,  1.42331825,  0.51884327, -1.12728601,\n",
       "         1.04099083, -0.76901519, -0.80827715, -1.63993508, -0.66161045,\n",
       "         0.1680485 ,  1.72159599,  0.51252723,  0.39111925, -0.68607709,\n",
       "        -0.3930003 , -0.59801753,  0.23956184,  0.33686297, -0.57149254,\n",
       "        -0.55840288, -0.46670814, -0.0609467 ,  0.48785333,  0.6108019 ,\n",
       "         2.24917128,  0.52994383,  1.46865379, -0.88729712,  1.40518956,\n",
       "        -0.38134722, -1.1404247 ,  0.27654417, -0.12267041, -0.92137632,\n",
       "         0.90668897, -0.45881636,  0.30521602,  1.67397694,  1.15313089,\n",
       "         1.19316483,  0.49847606,  0.06254728,  1.48571306, -0.30968449,\n",
       "        -0.31740168, -0.55784199, -0.22383814,  0.75885409, -0.38863934]])"
      ]
     },
     "execution_count": 171,
     "metadata": {},
     "output_type": "execute_result"
    }
   ],
   "source": [
    "v = np.random.randn(1,100)\n",
    "v"
   ]
  },
  {
   "cell_type": "code",
   "execution_count": 174,
   "metadata": {},
   "outputs": [
    {
     "data": {
      "text/plain": [
       "array([[-0.96023363, -0.31036502, -0.29799122,  0.19952412, -0.56159555,\n",
       "         0.56360142, -0.90589676,  0.75271379,  1.23840694,  0.11074038,\n",
       "         1.92349861, -0.58647653,  1.19776867,  0.21782716, -0.40395409,\n",
       "        -1.66169198, -0.16315647, -0.06180449,  0.75772586, -1.08263233],\n",
       "       [-0.63910703,  0.88500584,  0.30375912, -0.85778931, -0.92340195,\n",
       "        -0.43628611,  0.00286089, -2.45540378,  0.78543744, -0.30577473,\n",
       "        -0.1837856 ,  0.02197032,  0.96159151,  0.24241227, -0.64280604,\n",
       "        -0.01850422,  0.16691634,  2.04903388,  0.96172345,  0.28399343],\n",
       "       [-0.41246663,  0.97032498, -1.79077795, -0.32355865, -0.35240371,\n",
       "         0.72767016, -1.65251526, -0.43209014, -1.6252977 ,  1.14295634,\n",
       "         1.80455812,  0.64779102,  1.42331825,  0.51884327, -1.12728601,\n",
       "         1.04099083, -0.76901519, -0.80827715, -1.63993508, -0.66161045],\n",
       "       [ 0.1680485 ,  1.72159599,  0.51252723,  0.39111925, -0.68607709,\n",
       "        -0.3930003 , -0.59801753,  0.23956184,  0.33686297, -0.57149254,\n",
       "        -0.55840288, -0.46670814, -0.0609467 ,  0.48785333,  0.6108019 ,\n",
       "         2.24917128,  0.52994383,  1.46865379, -0.88729712,  1.40518956],\n",
       "       [-0.38134722, -1.1404247 ,  0.27654417, -0.12267041, -0.92137632,\n",
       "         0.90668897, -0.45881636,  0.30521602,  1.67397694,  1.15313089,\n",
       "         1.19316483,  0.49847606,  0.06254728,  1.48571306, -0.30968449,\n",
       "        -0.31740168, -0.55784199, -0.22383814,  0.75885409, -0.38863934]])"
      ]
     },
     "execution_count": 174,
     "metadata": {},
     "output_type": "execute_result"
    }
   ],
   "source": [
    "R = np.resize(v,(5,20))\n",
    "R"
   ]
  },
  {
   "cell_type": "markdown",
   "metadata": {},
   "source": [
    "## Matrix Transpose"
   ]
  },
  {
   "cell_type": "code",
   "execution_count": 178,
   "metadata": {},
   "outputs": [
    {
     "data": {
      "text/plain": [
       "array([[ 2,  3,  5],\n",
       "       [ 1, -4,  1],\n",
       "       [ 0,  0,  3]])"
      ]
     },
     "execution_count": 178,
     "metadata": {},
     "output_type": "execute_result"
    }
   ],
   "source": [
    "A = np.array([[2,3,5],[1,-4,1],[0,0,3]])\n",
    "A"
   ]
  },
  {
   "cell_type": "code",
   "execution_count": 179,
   "metadata": {},
   "outputs": [
    {
     "data": {
      "text/plain": [
       "array([[ 2,  1,  0],\n",
       "       [ 3, -4,  0],\n",
       "       [ 5,  1,  3]])"
      ]
     },
     "execution_count": 179,
     "metadata": {},
     "output_type": "execute_result"
    }
   ],
   "source": [
    "A.T"
   ]
  },
  {
   "cell_type": "code",
   "execution_count": 180,
   "metadata": {},
   "outputs": [
    {
     "data": {
      "text/plain": [
       "array([[ 2,  1,  0],\n",
       "       [ 3, -4,  0],\n",
       "       [ 5,  1,  3]])"
      ]
     },
     "execution_count": 180,
     "metadata": {},
     "output_type": "execute_result"
    }
   ],
   "source": [
    "np.transpose(A)"
   ]
  },
  {
   "cell_type": "markdown",
   "metadata": {},
   "source": [
    "## Generate symmetric matrix"
   ]
  },
  {
   "cell_type": "code",
   "execution_count": 191,
   "metadata": {},
   "outputs": [
    {
     "data": {
      "text/plain": [
       "array([[ 0.7828607 ,  1.12152553, -0.84348723, -0.7940025 , -0.38836412],\n",
       "       [-0.95985043, -0.09040351, -0.34377717, -2.12394111, -1.10638297],\n",
       "       [-0.34800011, -1.42478814,  0.1008562 ,  1.53814224, -2.05578905],\n",
       "       [-1.73805772,  0.94192555, -0.1760572 , -0.54599781,  0.82411261],\n",
       "       [-0.8337956 ,  1.88904874,  0.6299684 ,  0.69176846, -1.49663821]])"
      ]
     },
     "execution_count": 191,
     "metadata": {},
     "output_type": "execute_result"
    }
   ],
   "source": [
    "A = np.random.randn(5,5)\n",
    "A"
   ]
  },
  {
   "cell_type": "code",
   "execution_count": 196,
   "metadata": {},
   "outputs": [
    {
     "data": {
      "text/plain": [
       "array([[ 1.5657214 ,  0.1616751 , -1.19148734, -2.53206022, -1.22215972],\n",
       "       [ 0.1616751 , -0.18080703, -1.76856531, -1.18201556,  0.78266577],\n",
       "       [-1.19148734, -1.76856531,  0.20171239,  1.36208504, -1.42582065],\n",
       "       [-2.53206022, -1.18201556,  1.36208504, -1.09199563,  1.51588107],\n",
       "       [-1.22215972,  0.78266577, -1.42582065,  1.51588107, -2.99327642]])"
      ]
     },
     "execution_count": 196,
     "metadata": {},
     "output_type": "execute_result"
    }
   ],
   "source": [
    "B = A + A.T\n",
    "B"
   ]
  },
  {
   "cell_type": "code",
   "execution_count": 197,
   "metadata": {},
   "outputs": [
    {
     "data": {
      "text/plain": [
       "array([[ 1.5657214 ,  0.1616751 , -1.19148734, -2.53206022, -1.22215972],\n",
       "       [ 0.1616751 , -0.18080703, -1.76856531, -1.18201556,  0.78266577],\n",
       "       [-1.19148734, -1.76856531,  0.20171239,  1.36208504, -1.42582065],\n",
       "       [-2.53206022, -1.18201556,  1.36208504, -1.09199563,  1.51588107],\n",
       "       [-1.22215972,  0.78266577, -1.42582065,  1.51588107, -2.99327642]])"
      ]
     },
     "execution_count": 197,
     "metadata": {},
     "output_type": "execute_result"
    }
   ],
   "source": [
    "B.T"
   ]
  },
  {
   "cell_type": "markdown",
   "metadata": {},
   "source": [
    "## Matrix Operations\n",
    "### Scalar Multiplication"
   ]
  },
  {
   "cell_type": "code",
   "execution_count": 198,
   "metadata": {},
   "outputs": [
    {
     "data": {
      "text/plain": [
       "array([[ 2,  3,  5],\n",
       "       [ 1, -4,  1],\n",
       "       [ 0,  0,  3]])"
      ]
     },
     "execution_count": 198,
     "metadata": {},
     "output_type": "execute_result"
    }
   ],
   "source": [
    "A = np.array([[2,3,5],[1,-4,1],[0,0,3]])\n",
    "A"
   ]
  },
  {
   "cell_type": "code",
   "execution_count": 203,
   "metadata": {},
   "outputs": [
    {
     "data": {
      "text/plain": [
       "array([[ 3. ,  4.5,  7.5],\n",
       "       [ 1.5, -6. ,  1.5],\n",
       "       [ 0. ,  0. ,  4.5]])"
      ]
     },
     "execution_count": 203,
     "metadata": {},
     "output_type": "execute_result"
    }
   ],
   "source": [
    "1.5*A"
   ]
  },
  {
   "cell_type": "code",
   "execution_count": 204,
   "metadata": {},
   "outputs": [
    {
     "data": {
      "text/plain": [
       "array([[ 3. ,  4.5,  7.5],\n",
       "       [ 1.5, -6. ,  1.5],\n",
       "       [ 0. ,  0. ,  4.5]])"
      ]
     },
     "execution_count": 204,
     "metadata": {},
     "output_type": "execute_result"
    }
   ],
   "source": [
    "A*1.5"
   ]
  },
  {
   "cell_type": "markdown",
   "metadata": {},
   "source": [
    "### Matix Addition"
   ]
  },
  {
   "cell_type": "code",
   "execution_count": 205,
   "metadata": {},
   "outputs": [
    {
     "data": {
      "text/plain": [
       "array([[ 3,  2,  9],\n",
       "       [-3,  1, 13]])"
      ]
     },
     "execution_count": 205,
     "metadata": {},
     "output_type": "execute_result"
    }
   ],
   "source": [
    "A = np.array([[1,5,2],[-2,3,7]])\n",
    "B = np.array([[2,-3,7],[-1,-2,6]])\n",
    "A+B"
   ]
  },
  {
   "cell_type": "code",
   "execution_count": 207,
   "metadata": {},
   "outputs": [
    {
     "data": {
      "text/plain": [
       "array([[ -4,  19, -17],\n",
       "       [ -1,  12,  -4]])"
      ]
     },
     "execution_count": 207,
     "metadata": {},
     "output_type": "execute_result"
    }
   ],
   "source": [
    "2*A - 3*B"
   ]
  },
  {
   "cell_type": "code",
   "execution_count": 208,
   "metadata": {},
   "outputs": [
    {
     "data": {
      "text/plain": [
       "array([[ 0.96497649,  6.02520515,  2.42396261, -0.3994129 ,  0.44708746],\n",
       "       [ 3.00545288, -0.43362245, -3.30702768, -1.71300005, -1.82085322],\n",
       "       [ 1.4847199 , -4.99280649,  4.44357411, -3.84875393, -0.11776885]])"
      ]
     },
     "execution_count": 208,
     "metadata": {},
     "output_type": "execute_result"
    }
   ],
   "source": [
    "A = np.random.randn(3,5)\n",
    "B = np.random.randn(3,5)\n",
    "2*(A+B) "
   ]
  },
  {
   "cell_type": "code",
   "execution_count": 209,
   "metadata": {},
   "outputs": [
    {
     "data": {
      "text/plain": [
       "array([[ 0.96497649,  6.02520515,  2.42396261, -0.3994129 ,  0.44708746],\n",
       "       [ 3.00545288, -0.43362245, -3.30702768, -1.71300005, -1.82085322],\n",
       "       [ 1.4847199 , -4.99280649,  4.44357411, -3.84875393, -0.11776885]])"
      ]
     },
     "execution_count": 209,
     "metadata": {},
     "output_type": "execute_result"
    }
   ],
   "source": [
    "2*A + 2*B "
   ]
  },
  {
   "cell_type": "code",
   "execution_count": 217,
   "metadata": {},
   "outputs": [
    {
     "name": "stdout",
     "output_type": "stream",
     "text": [
      "shape of A: (2, 3)\n",
      "shape of x (3, 1)\n"
     ]
    }
   ],
   "source": [
    "A = np.array([[1,3,-2],[3,1,4]])\n",
    "x = np.array([[2],[5],[1]])\n",
    "print(\"shape of A:\",A.shape)\n",
    "print(\"shape of x\",x.shape)"
   ]
  },
  {
   "cell_type": "code",
   "execution_count": 215,
   "metadata": {},
   "outputs": [],
   "source": [
    "x = 2*x"
   ]
  },
  {
   "cell_type": "code",
   "execution_count": 218,
   "metadata": {},
   "outputs": [
    {
     "data": {
      "text/plain": [
       "array([[30],\n",
       "       [30]])"
      ]
     },
     "execution_count": 218,
     "metadata": {},
     "output_type": "execute_result"
    }
   ],
   "source": [
    "2*np.matmul(A,x)"
   ]
  },
  {
   "cell_type": "markdown",
   "metadata": {},
   "source": [
    "### Matrix Multiplication"
   ]
  },
  {
   "cell_type": "code",
   "execution_count": 219,
   "metadata": {},
   "outputs": [
    {
     "data": {
      "text/plain": [
       "array([[ -1,  -6],\n",
       "       [-14,  42]])"
      ]
     },
     "execution_count": 219,
     "metadata": {},
     "output_type": "execute_result"
    }
   ],
   "source": [
    "A = np.array([[1,2,-3],[7,-1,2]])\n",
    "B = np.array([[-2,5],[2,-1],[1,3]])\n",
    "np.matmul(A,B)"
   ]
  },
  {
   "cell_type": "code",
   "execution_count": 221,
   "metadata": {},
   "outputs": [
    {
     "data": {
      "text/plain": [
       "(2, 3)"
      ]
     },
     "execution_count": 221,
     "metadata": {},
     "output_type": "execute_result"
    }
   ],
   "source": [
    "A.shape"
   ]
  },
  {
   "cell_type": "code",
   "execution_count": 222,
   "metadata": {},
   "outputs": [
    {
     "data": {
      "text/plain": [
       "(3, 2)"
      ]
     },
     "execution_count": 222,
     "metadata": {},
     "output_type": "execute_result"
    }
   ],
   "source": [
    "B.shape"
   ]
  },
  {
   "cell_type": "code",
   "execution_count": 220,
   "metadata": {},
   "outputs": [
    {
     "data": {
      "text/plain": [
       "array([[33, -9, 16],\n",
       "       [-5,  5, -8],\n",
       "       [22, -1,  3]])"
      ]
     },
     "execution_count": 220,
     "metadata": {},
     "output_type": "execute_result"
    }
   ],
   "source": [
    "np.matmul(B,A)"
   ]
  },
  {
   "cell_type": "code",
   "execution_count": 223,
   "metadata": {},
   "outputs": [
    {
     "data": {
      "text/plain": [
       "array([[ 3.04940923, -4.05038729,  2.75769607],\n",
       "       [-1.93195389,  3.47780559, -1.22763756],\n",
       "       [ 1.2077359 , -2.46835752,  1.36280365]])"
      ]
     },
     "execution_count": 223,
     "metadata": {},
     "output_type": "execute_result"
    }
   ],
   "source": [
    "A = np.random.randn(3,3)\n",
    "B = A + A.T\n",
    "np.matmul(A,B)"
   ]
  },
  {
   "cell_type": "code",
   "execution_count": 224,
   "metadata": {},
   "outputs": [
    {
     "data": {
      "text/plain": [
       "array([[ 1.23319855, -3.56673259,  2.05156992],\n",
       "       [-1.4482992 ,  4.98901492, -1.70458337],\n",
       "       [ 0.50160975, -2.94530334,  1.66780502]])"
      ]
     },
     "execution_count": 224,
     "metadata": {},
     "output_type": "execute_result"
    }
   ],
   "source": [
    "np.matmul(B,A)"
   ]
  },
  {
   "cell_type": "code",
   "execution_count": 225,
   "metadata": {},
   "outputs": [],
   "source": [
    "A = np.random.randn(3,3)\n",
    "B = np.random.randn(3,3)\n",
    "C = np.random.randn(3,3)"
   ]
  },
  {
   "cell_type": "code",
   "execution_count": 226,
   "metadata": {},
   "outputs": [
    {
     "data": {
      "text/plain": [
       "array([[-1.91147214,  4.03224011, -3.12167444],\n",
       "       [-0.58588936,  3.66185148, -1.45132025],\n",
       "       [ 0.14488242, -3.87264324, -0.11557774]])"
      ]
     },
     "execution_count": 226,
     "metadata": {},
     "output_type": "execute_result"
    }
   ],
   "source": [
    "np.matmul(A,np.matmul(B,C))"
   ]
  },
  {
   "cell_type": "code",
   "execution_count": 227,
   "metadata": {},
   "outputs": [
    {
     "data": {
      "text/plain": [
       "array([[-1.91147214,  4.03224011, -3.12167444],\n",
       "       [-0.58588936,  3.66185148, -1.45132025],\n",
       "       [ 0.14488242, -3.87264324, -0.11557774]])"
      ]
     },
     "execution_count": 227,
     "metadata": {},
     "output_type": "execute_result"
    }
   ],
   "source": [
    "np.matmul(np.matmul(A,B),C)"
   ]
  },
  {
   "cell_type": "code",
   "execution_count": 231,
   "metadata": {},
   "outputs": [
    {
     "data": {
      "text/plain": [
       "array([[-1.81183897,  1.33399289, -4.17205097],\n",
       "       [-0.4195315 ,  1.43034564, -5.05656464],\n",
       "       [-0.80590473, -1.46428973,  2.98673073]])"
      ]
     },
     "execution_count": 231,
     "metadata": {},
     "output_type": "execute_result"
    }
   ],
   "source": [
    "np.matmul(A,(B + C))"
   ]
  },
  {
   "cell_type": "code",
   "execution_count": 232,
   "metadata": {},
   "outputs": [
    {
     "data": {
      "text/plain": [
       "array([[-1.81183897,  1.33399289, -4.17205097],\n",
       "       [-0.4195315 ,  1.43034564, -5.05656464],\n",
       "       [-0.80590473, -1.46428973,  2.98673073]])"
      ]
     },
     "execution_count": 232,
     "metadata": {},
     "output_type": "execute_result"
    }
   ],
   "source": [
    "np.matmul(A,B) + np.matmul(A,C)"
   ]
  },
  {
   "cell_type": "code",
   "execution_count": 233,
   "metadata": {},
   "outputs": [
    {
     "data": {
      "text/plain": [
       "array([[ 0.88699775,  1.67251765,  0.3105651 ],\n",
       "       [-0.68119342,  0.74405108, -2.62034431],\n",
       "       [-0.53380177, -1.09668143,  1.62979782]])"
      ]
     },
     "execution_count": 233,
     "metadata": {},
     "output_type": "execute_result"
    }
   ],
   "source": [
    "np.matmul((A+ B),C)"
   ]
  },
  {
   "cell_type": "code",
   "execution_count": 234,
   "metadata": {},
   "outputs": [
    {
     "data": {
      "text/plain": [
       "array([[ 0.88699775,  1.67251765,  0.3105651 ],\n",
       "       [-0.68119342,  0.74405108, -2.62034431],\n",
       "       [-0.53380177, -1.09668143,  1.62979782]])"
      ]
     },
     "execution_count": 234,
     "metadata": {},
     "output_type": "execute_result"
    }
   ],
   "source": [
    "np.matmul(A, C) + np.matmul(B, C)"
   ]
  },
  {
   "cell_type": "code",
   "execution_count": 235,
   "metadata": {},
   "outputs": [
    {
     "data": {
      "text/plain": [
       "array([[-1.95007955, -1.02738161,  0.85181664],\n",
       "       [ 0.7435334 ,  1.94530701, -2.88859418],\n",
       "       [-3.11162834, -3.56507204,  3.37124485]])"
      ]
     },
     "execution_count": 235,
     "metadata": {},
     "output_type": "execute_result"
    }
   ],
   "source": [
    "np.matmul(A,B).T"
   ]
  },
  {
   "cell_type": "code",
   "execution_count": 236,
   "metadata": {},
   "outputs": [
    {
     "data": {
      "text/plain": [
       "array([[ 2.89476004, -0.16047947, -3.28251853],\n",
       "       [-0.23590902, -0.13785419, -0.11273102],\n",
       "       [-3.70478385,  1.98887417,  0.60956646]])"
      ]
     },
     "execution_count": 236,
     "metadata": {},
     "output_type": "execute_result"
    }
   ],
   "source": [
    "np.matmul(A.T,B.T)"
   ]
  },
  {
   "cell_type": "code",
   "execution_count": 237,
   "metadata": {},
   "outputs": [
    {
     "data": {
      "text/plain": [
       "array([[-1.95007955, -1.02738161,  0.85181664],\n",
       "       [ 0.7435334 ,  1.94530701, -2.88859418],\n",
       "       [-3.11162834, -3.56507204,  3.37124485]])"
      ]
     },
     "execution_count": 237,
     "metadata": {},
     "output_type": "execute_result"
    }
   ],
   "source": [
    "np.matmul(B.T,A.T)"
   ]
  },
  {
   "cell_type": "code",
   "execution_count": 239,
   "metadata": {},
   "outputs": [
    {
     "data": {
      "text/plain": [
       "array([[-1.95007955, -1.02738161,  0.85181664],\n",
       "       [ 0.7435334 ,  1.94530701, -2.88859418],\n",
       "       [-3.11162834, -3.56507204,  3.37124485]])"
      ]
     },
     "execution_count": 239,
     "metadata": {},
     "output_type": "execute_result"
    }
   ],
   "source": [
    "np.matmul(A,B,C).T"
   ]
  },
  {
   "cell_type": "code",
   "execution_count": 240,
   "metadata": {},
   "outputs": [
    {
     "data": {
      "text/plain": [
       "array([[ -3.33691533,   2.42599897,   0.02498801],\n",
       "       [  7.11715323,  -1.23737292,  -6.14118044],\n",
       "       [-11.17573539,   4.35587532,   5.20608013]])"
      ]
     },
     "execution_count": 240,
     "metadata": {},
     "output_type": "execute_result"
    }
   ],
   "source": [
    "np.matmul(C.T,B.T,A.T)"
   ]
  },
  {
   "cell_type": "markdown",
   "metadata": {},
   "source": [
    "## Determinant of a Matrix"
   ]
  },
  {
   "cell_type": "code",
   "execution_count": 241,
   "metadata": {},
   "outputs": [
    {
     "data": {
      "text/plain": [
       "55.000000000000014"
      ]
     },
     "execution_count": 241,
     "metadata": {},
     "output_type": "execute_result"
    }
   ],
   "source": [
    "A = np.array([[1,-2,5],[7,-3,2],[-1,2,0]])\n",
    "np.linalg.det(A)"
   ]
  },
  {
   "cell_type": "code",
   "execution_count": 242,
   "metadata": {},
   "outputs": [
    {
     "data": {
      "text/plain": [
       "0.0"
      ]
     },
     "execution_count": 242,
     "metadata": {},
     "output_type": "execute_result"
    }
   ],
   "source": [
    "A = np.array([[5,2,7],[-5,-2,-7],[10,4,14]])\n",
    "np.linalg.det(A)"
   ]
  },
  {
   "cell_type": "markdown",
   "metadata": {},
   "source": [
    "## Matrix Inverse"
   ]
  },
  {
   "cell_type": "code",
   "execution_count": 243,
   "metadata": {},
   "outputs": [
    {
     "data": {
      "text/plain": [
       "array([[-0.07272727,  0.18181818,  0.2       ],\n",
       "       [-0.03636364,  0.09090909,  0.6       ],\n",
       "       [ 0.2       ,  0.        ,  0.2       ]])"
      ]
     },
     "execution_count": 243,
     "metadata": {},
     "output_type": "execute_result"
    }
   ],
   "source": [
    "A = np.array([[1,-2,5],[7,-3,2],[-1,2,0]])\n",
    "np.linalg.inv(A)"
   ]
  },
  {
   "cell_type": "code",
   "execution_count": 244,
   "metadata": {},
   "outputs": [
    {
     "ename": "LinAlgError",
     "evalue": "Singular matrix",
     "output_type": "error",
     "traceback": [
      "\u001b[0;31m---------------------------------------------------------------------------\u001b[0m",
      "\u001b[0;31mLinAlgError\u001b[0m                               Traceback (most recent call last)",
      "\u001b[0;32m<ipython-input-244-92059b4cada5>\u001b[0m in \u001b[0;36m<module>\u001b[0;34m\u001b[0m\n\u001b[1;32m      1\u001b[0m \u001b[0mA\u001b[0m \u001b[0;34m=\u001b[0m \u001b[0mnp\u001b[0m\u001b[0;34m.\u001b[0m\u001b[0marray\u001b[0m\u001b[0;34m(\u001b[0m\u001b[0;34m[\u001b[0m\u001b[0;34m[\u001b[0m\u001b[0;36m5\u001b[0m\u001b[0;34m,\u001b[0m\u001b[0;36m2\u001b[0m\u001b[0;34m,\u001b[0m\u001b[0;36m7\u001b[0m\u001b[0;34m]\u001b[0m\u001b[0;34m,\u001b[0m\u001b[0;34m[\u001b[0m\u001b[0;34m-\u001b[0m\u001b[0;36m5\u001b[0m\u001b[0;34m,\u001b[0m\u001b[0;34m-\u001b[0m\u001b[0;36m2\u001b[0m\u001b[0;34m,\u001b[0m\u001b[0;34m-\u001b[0m\u001b[0;36m7\u001b[0m\u001b[0;34m]\u001b[0m\u001b[0;34m,\u001b[0m\u001b[0;34m[\u001b[0m\u001b[0;36m10\u001b[0m\u001b[0;34m,\u001b[0m\u001b[0;36m4\u001b[0m\u001b[0;34m,\u001b[0m\u001b[0;36m14\u001b[0m\u001b[0;34m]\u001b[0m\u001b[0;34m]\u001b[0m\u001b[0;34m)\u001b[0m\u001b[0;34m\u001b[0m\u001b[0;34m\u001b[0m\u001b[0m\n\u001b[0;32m----> 2\u001b[0;31m \u001b[0mnp\u001b[0m\u001b[0;34m.\u001b[0m\u001b[0mlinalg\u001b[0m\u001b[0;34m.\u001b[0m\u001b[0minv\u001b[0m\u001b[0;34m(\u001b[0m\u001b[0mA\u001b[0m\u001b[0;34m)\u001b[0m\u001b[0;34m\u001b[0m\u001b[0;34m\u001b[0m\u001b[0m\n\u001b[0m",
      "\u001b[0;32m<__array_function__ internals>\u001b[0m in \u001b[0;36minv\u001b[0;34m(*args, **kwargs)\u001b[0m\n",
      "\u001b[0;32m~/anaconda3/lib/python3.8/site-packages/numpy/linalg/linalg.py\u001b[0m in \u001b[0;36minv\u001b[0;34m(a)\u001b[0m\n\u001b[1;32m    544\u001b[0m     \u001b[0msignature\u001b[0m \u001b[0;34m=\u001b[0m \u001b[0;34m'D->D'\u001b[0m \u001b[0;32mif\u001b[0m \u001b[0misComplexType\u001b[0m\u001b[0;34m(\u001b[0m\u001b[0mt\u001b[0m\u001b[0;34m)\u001b[0m \u001b[0;32melse\u001b[0m \u001b[0;34m'd->d'\u001b[0m\u001b[0;34m\u001b[0m\u001b[0;34m\u001b[0m\u001b[0m\n\u001b[1;32m    545\u001b[0m     \u001b[0mextobj\u001b[0m \u001b[0;34m=\u001b[0m \u001b[0mget_linalg_error_extobj\u001b[0m\u001b[0;34m(\u001b[0m\u001b[0m_raise_linalgerror_singular\u001b[0m\u001b[0;34m)\u001b[0m\u001b[0;34m\u001b[0m\u001b[0;34m\u001b[0m\u001b[0m\n\u001b[0;32m--> 546\u001b[0;31m     \u001b[0mainv\u001b[0m \u001b[0;34m=\u001b[0m \u001b[0m_umath_linalg\u001b[0m\u001b[0;34m.\u001b[0m\u001b[0minv\u001b[0m\u001b[0;34m(\u001b[0m\u001b[0ma\u001b[0m\u001b[0;34m,\u001b[0m \u001b[0msignature\u001b[0m\u001b[0;34m=\u001b[0m\u001b[0msignature\u001b[0m\u001b[0;34m,\u001b[0m \u001b[0mextobj\u001b[0m\u001b[0;34m=\u001b[0m\u001b[0mextobj\u001b[0m\u001b[0;34m)\u001b[0m\u001b[0;34m\u001b[0m\u001b[0;34m\u001b[0m\u001b[0m\n\u001b[0m\u001b[1;32m    547\u001b[0m     \u001b[0;32mreturn\u001b[0m \u001b[0mwrap\u001b[0m\u001b[0;34m(\u001b[0m\u001b[0mainv\u001b[0m\u001b[0;34m.\u001b[0m\u001b[0mastype\u001b[0m\u001b[0;34m(\u001b[0m\u001b[0mresult_t\u001b[0m\u001b[0;34m,\u001b[0m \u001b[0mcopy\u001b[0m\u001b[0;34m=\u001b[0m\u001b[0;32mFalse\u001b[0m\u001b[0;34m)\u001b[0m\u001b[0;34m)\u001b[0m\u001b[0;34m\u001b[0m\u001b[0;34m\u001b[0m\u001b[0m\n\u001b[1;32m    548\u001b[0m \u001b[0;34m\u001b[0m\u001b[0m\n",
      "\u001b[0;32m~/anaconda3/lib/python3.8/site-packages/numpy/linalg/linalg.py\u001b[0m in \u001b[0;36m_raise_linalgerror_singular\u001b[0;34m(err, flag)\u001b[0m\n\u001b[1;32m     86\u001b[0m \u001b[0;34m\u001b[0m\u001b[0m\n\u001b[1;32m     87\u001b[0m \u001b[0;32mdef\u001b[0m \u001b[0m_raise_linalgerror_singular\u001b[0m\u001b[0;34m(\u001b[0m\u001b[0merr\u001b[0m\u001b[0;34m,\u001b[0m \u001b[0mflag\u001b[0m\u001b[0;34m)\u001b[0m\u001b[0;34m:\u001b[0m\u001b[0;34m\u001b[0m\u001b[0;34m\u001b[0m\u001b[0m\n\u001b[0;32m---> 88\u001b[0;31m     \u001b[0;32mraise\u001b[0m \u001b[0mLinAlgError\u001b[0m\u001b[0;34m(\u001b[0m\u001b[0;34m\"Singular matrix\"\u001b[0m\u001b[0;34m)\u001b[0m\u001b[0;34m\u001b[0m\u001b[0;34m\u001b[0m\u001b[0m\n\u001b[0m\u001b[1;32m     89\u001b[0m \u001b[0;34m\u001b[0m\u001b[0m\n\u001b[1;32m     90\u001b[0m \u001b[0;32mdef\u001b[0m \u001b[0m_raise_linalgerror_nonposdef\u001b[0m\u001b[0;34m(\u001b[0m\u001b[0merr\u001b[0m\u001b[0;34m,\u001b[0m \u001b[0mflag\u001b[0m\u001b[0;34m)\u001b[0m\u001b[0;34m:\u001b[0m\u001b[0;34m\u001b[0m\u001b[0;34m\u001b[0m\u001b[0m\n",
      "\u001b[0;31mLinAlgError\u001b[0m: Singular matrix"
     ]
    }
   ],
   "source": [
    "A = np.array([[5,2,7],[-5,-2,-7],[10,4,14]])\n",
    "np.linalg.inv(A)"
   ]
  },
  {
   "cell_type": "markdown",
   "metadata": {},
   "source": [
    "#### Perturbation"
   ]
  },
  {
   "cell_type": "code",
   "execution_count": 249,
   "metadata": {},
   "outputs": [],
   "source": [
    "delta = 0.02\n",
    "A = A + delta"
   ]
  },
  {
   "cell_type": "code",
   "execution_count": 252,
   "metadata": {},
   "outputs": [
    {
     "data": {
      "text/plain": [
       "array([[ 5.021,  2.021,  7.021],\n",
       "       [-4.979, -1.979, -6.979],\n",
       "       [10.021,  4.021, 14.021]])"
      ]
     },
     "execution_count": 252,
     "metadata": {},
     "output_type": "execute_result"
    }
   ],
   "source": [
    "A"
   ]
  },
  {
   "cell_type": "code",
   "execution_count": 250,
   "metadata": {},
   "outputs": [
    {
     "data": {
      "text/plain": [
       "1.2195574996563193e-16"
      ]
     },
     "execution_count": 250,
     "metadata": {},
     "output_type": "execute_result"
    }
   ],
   "source": [
    "np.linalg.det(A)"
   ]
  },
  {
   "cell_type": "code",
   "execution_count": 251,
   "metadata": {},
   "outputs": [
    {
     "data": {
      "text/plain": [
       "array([[ 2.58290405e+15, -8.60968015e+14, -1.72193603e+15],\n",
       "       [-1.03316162e+15,  3.44387206e+14,  6.88774412e+14],\n",
       "       [-1.54974243e+15,  5.16580809e+14,  1.03316162e+15]])"
      ]
     },
     "execution_count": 251,
     "metadata": {},
     "output_type": "execute_result"
    }
   ],
   "source": [
    "np.linalg.inv(A)"
   ]
  },
  {
   "cell_type": "markdown",
   "metadata": {},
   "source": [
    "## Linear Equation Solving "
   ]
  },
  {
   "cell_type": "code",
   "execution_count": 253,
   "metadata": {},
   "outputs": [],
   "source": [
    "## x - 2y + 5z = 2\n",
    "## 7x -3y + 2z = 5\n",
    "## 2y -x = 3\n",
    "\n",
    "A = np.array([[1,-2,5],[7,-3,2],[-1,2,0]])\n",
    "b = np.array([[2],[5],[3]])"
   ]
  },
  {
   "cell_type": "code",
   "execution_count": 254,
   "metadata": {},
   "outputs": [
    {
     "data": {
      "text/plain": [
       "array([[1.36363636],\n",
       "       [2.18181818],\n",
       "       [1.        ]])"
      ]
     },
     "execution_count": 254,
     "metadata": {},
     "output_type": "execute_result"
    }
   ],
   "source": [
    "x = np.matmul(np.linalg.inv(A),b)\n",
    "x"
   ]
  },
  {
   "cell_type": "code",
   "execution_count": 255,
   "metadata": {},
   "outputs": [],
   "source": [
    "## 5x+3y +4z = 11\n",
    "## 2x+y+z = 3 \n",
    "## 4x+7y +5z=17\n",
    "\n",
    "A = np.array([[5,3,4],[2,1,1],[4,7,5]])\n",
    "b = np.array([[11],[3],[17]])"
   ]
  },
  {
   "cell_type": "code",
   "execution_count": 256,
   "metadata": {},
   "outputs": [
    {
     "data": {
      "text/plain": [
       "array([[6.66133815e-16],\n",
       "       [1.00000000e+00],\n",
       "       [2.00000000e+00]])"
      ]
     },
     "execution_count": 256,
     "metadata": {},
     "output_type": "execute_result"
    }
   ],
   "source": [
    "x = np.matmul(np.linalg.inv(A),b)\n",
    "x"
   ]
  },
  {
   "cell_type": "code",
   "execution_count": 257,
   "metadata": {},
   "outputs": [],
   "source": [
    "##a + 3b + 2c + 2d = 1\n",
    "##2a + b + c + 2d = 0\n",
    "##3a + b + 2c + d = 1\n",
    "##2a + c + 3d = 0\n",
    "\n",
    "A = np.array([[1,3,2,2],[2,1,1,2],[3,1,2,1],[2,0,1,3]])\n",
    "b = np.array([[1],[0],[1],[0]])"
   ]
  },
  {
   "cell_type": "code",
   "execution_count": 258,
   "metadata": {},
   "outputs": [
    {
     "data": {
      "text/plain": [
       "array([[-0.27272727],\n",
       "       [-0.18181818],\n",
       "       [ 1.09090909],\n",
       "       [-0.18181818]])"
      ]
     },
     "execution_count": 258,
     "metadata": {},
     "output_type": "execute_result"
    }
   ],
   "source": [
    "x = np.matmul(np.linalg.inv(A),b)\n",
    "x"
   ]
  },
  {
   "cell_type": "code",
   "execution_count": null,
   "metadata": {},
   "outputs": [],
   "source": []
  }
 ],
 "metadata": {
  "interpreter": {
   "hash": "e0105ac9406840dc292ffde5e398b59ab58478a652bb16a9603dc66a7e7ff2c1"
  },
  "kernelspec": {
   "display_name": "Python 3 (ipykernel)",
   "language": "python",
   "name": "python3"
  },
  "language_info": {
   "codemirror_mode": {
    "name": "ipython",
    "version": 3
   },
   "file_extension": ".py",
   "mimetype": "text/x-python",
   "name": "python",
   "nbconvert_exporter": "python",
   "pygments_lexer": "ipython3",
   "version": "3.10.9"
  }
 },
 "nbformat": 4,
 "nbformat_minor": 2
}
